{
 "cells": [
  {
   "cell_type": "markdown",
   "metadata": {},
   "source": [
    "# Julia for Data Science - Chapter 02"
   ]
  },
  {
   "cell_type": "code",
   "execution_count": 1,
   "metadata": {},
   "outputs": [
    {
     "data": {
      "text/plain": [
       "\"/Users/ldmay/Box Sync/Learning/julia_learning\""
      ]
     },
     "execution_count": 1,
     "metadata": {},
     "output_type": "execute_result"
    }
   ],
   "source": [
    "pwd()"
   ]
  },
  {
   "cell_type": "code",
   "execution_count": 2,
   "metadata": {},
   "outputs": [],
   "source": [
    "# using Pkg\n",
    "# Pkg.add(\"packagename\")\n",
    "# Pkg.clone(\"git://github.com/AuthorName/SomeCoolPackage.jl.git\")\n",
    "# Pkg.update()\n",
    "# using packagename"
   ]
  },
  {
   "cell_type": "code",
   "execution_count": 3,
   "metadata": {},
   "outputs": [
    {
     "name": "stdout",
     "output_type": "stream",
     "text": [
      "\u001b[32m\u001b[1m  Updating\u001b[22m\u001b[39m registry at `~/.julia/registries/General`\n",
      "\u001b[32m\u001b[1m  Updating\u001b[22m\u001b[39m git-repo `https://github.com/JuliaRegistries/General.git`\n",
      "\u001b[2K\u001b[?25h\u001b[32m\u001b[1m Resolving\u001b[22m\u001b[39m package versions...\n",
      "\u001b[32m\u001b[1m  Updating\u001b[22m\u001b[39m `~/.julia/environments/v1.1/Project.toml`\n",
      "\u001b[90m [no changes]\u001b[39m\n",
      "\u001b[32m\u001b[1m  Updating\u001b[22m\u001b[39m `~/.julia/environments/v1.1/Manifest.toml`\n",
      "\u001b[90m [no changes]\u001b[39m\n"
     ]
    }
   ],
   "source": [
    "using Pkg\n",
    "Pkg.add(\"DataFrames\")"
   ]
  },
  {
   "cell_type": "code",
   "execution_count": 4,
   "metadata": {},
   "outputs": [
    {
     "name": "stdout",
     "output_type": "stream",
     "text": [
      "\u001b[32m\u001b[1m  Updating\u001b[22m\u001b[39m registry at `~/.julia/registries/General`\n",
      "\u001b[32m\u001b[1m  Updating\u001b[22m\u001b[39m git-repo `https://github.com/JuliaRegistries/General.git`\n",
      "\u001b[?25l\u001b[2K\u001b[?25h\u001b[32m\u001b[1m Resolving\u001b[22m\u001b[39m package versions...\n",
      "\u001b[32m\u001b[1m  Updating\u001b[22m\u001b[39m `~/.julia/environments/v1.1/Project.toml`\n",
      "\u001b[90m [no changes]\u001b[39m\n",
      "\u001b[32m\u001b[1m  Updating\u001b[22m\u001b[39m `~/.julia/environments/v1.1/Manifest.toml`\n",
      "\u001b[90m [no changes]\u001b[39m\n"
     ]
    }
   ],
   "source": [
    "Pkg.update()"
   ]
  },
  {
   "cell_type": "code",
   "execution_count": 6,
   "metadata": {},
   "outputs": [],
   "source": [
    "# include(\"my_other_script.jl\")"
   ]
  },
  {
   "cell_type": "code",
   "execution_count": 7,
   "metadata": {},
   "outputs": [
    {
     "data": {
      "text/plain": [
       "\"/Users/ldmay/Box Sync/Learning/julia_learning\""
      ]
     },
     "execution_count": 7,
     "metadata": {},
     "output_type": "execute_result"
    }
   ],
   "source": [
    "pwd()"
   ]
  },
  {
   "cell_type": "code",
   "execution_count": 8,
   "metadata": {},
   "outputs": [],
   "source": [
    "cd(\"..\")"
   ]
  },
  {
   "cell_type": "code",
   "execution_count": 9,
   "metadata": {},
   "outputs": [
    {
     "data": {
      "text/plain": [
       "\"/Users/ldmay/Box Sync/Learning\""
      ]
     },
     "execution_count": 9,
     "metadata": {},
     "output_type": "execute_result"
    }
   ],
   "source": [
    "pwd()"
   ]
  },
  {
   "cell_type": "code",
   "execution_count": 10,
   "metadata": {},
   "outputs": [],
   "source": [
    "cd(\"julia_learning\")"
   ]
  },
  {
   "cell_type": "code",
   "execution_count": 11,
   "metadata": {},
   "outputs": [
    {
     "data": {
      "text/plain": [
       "\"/Users/ldmay/Box Sync/Learning/julia_learning\""
      ]
     },
     "execution_count": 11,
     "metadata": {},
     "output_type": "execute_result"
    }
   ],
   "source": [
    "pwd()"
   ]
  },
  {
   "cell_type": "markdown",
   "metadata": {},
   "source": [
    "## Loading Datasets"
   ]
  },
  {
   "cell_type": "markdown",
   "metadata": {},
   "source": [
    "### CSV files"
   ]
  },
  {
   "cell_type": "code",
   "execution_count": 16,
   "metadata": {},
   "outputs": [],
   "source": [
    "# Pkg.add(\"CSV\")\n",
    "# Pkg.add(\"DataFrames\")\n",
    "using CSV\n",
    "using DataFrames"
   ]
  },
  {
   "cell_type": "code",
   "execution_count": 40,
   "metadata": {},
   "outputs": [],
   "source": [
    "#---------#---------#---------#---------#---------#---------#---------#---------\n",
    "#data = CSV.File(\"./magic04.csv\") |> DataFrame;\n",
    "\n",
    "data = CSV.File(\"./main datasets/Magic/magic04.csv\", \n",
    "                header=[\"fLength\", \"fWidth\", \"fSize\", \"fConc\", \n",
    "                        \"fConc1\", \"fAsym\", \"fM3Long\", \"fM3Trans\", \n",
    "                        \"fAlpha\", \"fDist\", \"class\"]) |> \n",
    "       DataFrame; # semicolon prevents printing df"
   ]
  },
  {
   "cell_type": "code",
   "execution_count": 41,
   "metadata": {},
   "outputs": [
    {
     "data": {
      "text/plain": [
       "11-element Array{Symbol,1}:\n",
       " :fLength \n",
       " :fWidth  \n",
       " :fSize   \n",
       " :fConc   \n",
       " :fConc1  \n",
       " :fAsym   \n",
       " :fM3Long \n",
       " :fM3Trans\n",
       " :fAlpha  \n",
       " :fDist   \n",
       " :class   "
      ]
     },
     "execution_count": 41,
     "metadata": {},
     "output_type": "execute_result"
    }
   ],
   "source": [
    "names(data)"
   ]
  },
  {
   "cell_type": "code",
   "execution_count": 42,
   "metadata": {},
   "outputs": [
    {
     "data": {
      "text/plain": [
       "(19020, 11)"
      ]
     },
     "execution_count": 42,
     "metadata": {},
     "output_type": "execute_result"
    }
   ],
   "source": [
    "size(data)"
   ]
  },
  {
   "cell_type": "code",
   "execution_count": 38,
   "metadata": {},
   "outputs": [
    {
     "data": {
      "text/html": [
       "<table class=\"data-frame\"><thead><tr><th></th><th>fLength</th><th>fWidth</th><th>fSize</th><th>fConc</th><th>fConc1</th><th>fAsym</th><th>fM3Long</th><th>fM3Trans</th><th>fAlpha</th><th>fDist</th><th>class</th></tr><tr><th></th><th>Float64⍰</th><th>Float64⍰</th><th>Float64⍰</th><th>Float64⍰</th><th>Float64⍰</th><th>Float64⍰</th><th>Float64⍰</th><th>Float64⍰</th><th>Float64⍰</th><th>Float64⍰</th><th>String⍰</th></tr></thead><tbody><p>6 rows × 11 columns</p><tr><th>1</th><td>28.7967</td><td>16.0021</td><td>2.6449</td><td>0.3918</td><td>0.1982</td><td>27.7004</td><td>22.011</td><td>-8.2027</td><td>40.092</td><td>81.8828</td><td>g</td></tr><tr><th>2</th><td>31.6036</td><td>11.7235</td><td>2.5185</td><td>0.5303</td><td>0.3773</td><td>26.2722</td><td>23.8238</td><td>-9.9574</td><td>6.3609</td><td>205.261</td><td>g</td></tr><tr><th>3</th><td>162.052</td><td>136.031</td><td>4.0612</td><td>0.0374</td><td>0.0187</td><td>116.741</td><td>-64.858</td><td>-45.216</td><td>76.96</td><td>256.788</td><td>g</td></tr><tr><th>4</th><td>23.8172</td><td>9.5728</td><td>2.3385</td><td>0.6147</td><td>0.3922</td><td>27.2107</td><td>-6.4633</td><td>-7.1513</td><td>10.449</td><td>116.737</td><td>g</td></tr><tr><th>5</th><td>75.1362</td><td>30.9205</td><td>3.1611</td><td>0.3168</td><td>0.1832</td><td>-5.5277</td><td>28.5525</td><td>21.8393</td><td>4.648</td><td>356.462</td><td>g</td></tr><tr><th>6</th><td>51.624</td><td>21.1502</td><td>2.9085</td><td>0.242</td><td>0.134</td><td>50.8761</td><td>43.1887</td><td>9.8145</td><td>3.613</td><td>238.098</td><td>g</td></tr></tbody></table>"
      ],
      "text/latex": [
       "\\begin{tabular}{r|ccccccccccc}\n",
       "\t& fLength & fWidth & fSize & fConc & fConc1 & fAsym & fM3Long & fM3Trans & fAlpha & fDist & class\\\\\n",
       "\t\\hline\n",
       "\t& Float64⍰ & Float64⍰ & Float64⍰ & Float64⍰ & Float64⍰ & Float64⍰ & Float64⍰ & Float64⍰ & Float64⍰ & Float64⍰ & String⍰\\\\\n",
       "\t\\hline\n",
       "\t1 & 28.7967 & 16.0021 & 2.6449 & 0.3918 & 0.1982 & 27.7004 & 22.011 & -8.2027 & 40.092 & 81.8828 & g \\\\\n",
       "\t2 & 31.6036 & 11.7235 & 2.5185 & 0.5303 & 0.3773 & 26.2722 & 23.8238 & -9.9574 & 6.3609 & 205.261 & g \\\\\n",
       "\t3 & 162.052 & 136.031 & 4.0612 & 0.0374 & 0.0187 & 116.741 & -64.858 & -45.216 & 76.96 & 256.788 & g \\\\\n",
       "\t4 & 23.8172 & 9.5728 & 2.3385 & 0.6147 & 0.3922 & 27.2107 & -6.4633 & -7.1513 & 10.449 & 116.737 & g \\\\\n",
       "\t5 & 75.1362 & 30.9205 & 3.1611 & 0.3168 & 0.1832 & -5.5277 & 28.5525 & 21.8393 & 4.648 & 356.462 & g \\\\\n",
       "\t6 & 51.624 & 21.1502 & 2.9085 & 0.242 & 0.134 & 50.8761 & 43.1887 & 9.8145 & 3.613 & 238.098 & g \\\\\n",
       "\\end{tabular}\n"
      ],
      "text/plain": [
       "6×11 DataFrame. Omitted printing of 5 columns\n",
       "│ Row │ fLength  │ fWidth   │ fSize    │ fConc    │ fConc1   │ fAsym    │\n",
       "│     │ \u001b[90mFloat64⍰\u001b[39m │ \u001b[90mFloat64⍰\u001b[39m │ \u001b[90mFloat64⍰\u001b[39m │ \u001b[90mFloat64⍰\u001b[39m │ \u001b[90mFloat64⍰\u001b[39m │ \u001b[90mFloat64⍰\u001b[39m │\n",
       "├─────┼──────────┼──────────┼──────────┼──────────┼──────────┼──────────┤\n",
       "│ 1   │ 28.7967  │ 16.0021  │ 2.6449   │ 0.3918   │ 0.1982   │ 27.7004  │\n",
       "│ 2   │ 31.6036  │ 11.7235  │ 2.5185   │ 0.5303   │ 0.3773   │ 26.2722  │\n",
       "│ 3   │ 162.052  │ 136.031  │ 4.0612   │ 0.0374   │ 0.0187   │ 116.741  │\n",
       "│ 4   │ 23.8172  │ 9.5728   │ 2.3385   │ 0.6147   │ 0.3922   │ 27.2107  │\n",
       "│ 5   │ 75.1362  │ 30.9205  │ 3.1611   │ 0.3168   │ 0.1832   │ -5.5277  │\n",
       "│ 6   │ 51.624   │ 21.1502  │ 2.9085   │ 0.242    │ 0.134    │ 50.8761  │"
      ]
     },
     "execution_count": 38,
     "metadata": {},
     "output_type": "execute_result"
    }
   ],
   "source": [
    "first(data, 6)"
   ]
  },
  {
   "cell_type": "code",
   "execution_count": 25,
   "metadata": {},
   "outputs": [
    {
     "data": {
      "text/html": [
       "<table class=\"data-frame\"><thead><tr><th></th><th>fLength</th><th>fWidth</th><th>fSize</th><th>fConc</th><th>fConc1</th><th>fAsym</th><th>fM3Long</th><th>fM3Trans</th><th>fAlpha</th><th>fDist</th><th>class</th></tr><tr><th></th><th>Float64⍰</th><th>Float64⍰</th><th>Float64⍰</th><th>Float64⍰</th><th>Float64⍰</th><th>Float64⍰</th><th>Float64⍰</th><th>Float64⍰</th><th>Float64⍰</th><th>Float64⍰</th><th>String⍰</th></tr></thead><tbody><p>6 rows × 11 columns</p><tr><th>1</th><td>43.298</td><td>17.3545</td><td>2.8307</td><td>0.2877</td><td>0.1646</td><td>-60.1842</td><td>-33.8513</td><td>-3.6545</td><td>78.4099</td><td>224.83</td><td>h</td></tr><tr><th>2</th><td>21.3846</td><td>10.917</td><td>2.6161</td><td>0.5857</td><td>0.3934</td><td>15.2618</td><td>11.5245</td><td>2.8766</td><td>2.4229</td><td>106.826</td><td>h</td></tr><tr><th>3</th><td>28.9452</td><td>6.702</td><td>2.2672</td><td>0.5351</td><td>0.2784</td><td>37.0816</td><td>13.1853</td><td>-2.9632</td><td>86.7975</td><td>247.456</td><td>h</td></tr><tr><th>4</th><td>75.4455</td><td>47.5305</td><td>3.4483</td><td>0.1417</td><td>0.0549</td><td>-9.3561</td><td>41.0562</td><td>-9.4662</td><td>30.2987</td><td>256.517</td><td>h</td></tr><tr><th>5</th><td>120.513</td><td>76.9018</td><td>3.9939</td><td>0.0944</td><td>0.0683</td><td>5.8043</td><td>-93.5224</td><td>-63.8389</td><td>84.6874</td><td>408.317</td><td>h</td></tr><tr><th>6</th><td>187.181</td><td>53.0014</td><td>3.2093</td><td>0.2876</td><td>0.1539</td><td>-167.313</td><td>-168.456</td><td>31.4755</td><td>52.731</td><td>272.317</td><td>h</td></tr></tbody></table>"
      ],
      "text/latex": [
       "\\begin{tabular}{r|ccccccccccc}\n",
       "\t& fLength & fWidth & fSize & fConc & fConc1 & fAsym & fM3Long & fM3Trans & fAlpha & fDist & class\\\\\n",
       "\t\\hline\n",
       "\t& Float64⍰ & Float64⍰ & Float64⍰ & Float64⍰ & Float64⍰ & Float64⍰ & Float64⍰ & Float64⍰ & Float64⍰ & Float64⍰ & String⍰\\\\\n",
       "\t\\hline\n",
       "\t1 & 43.298 & 17.3545 & 2.8307 & 0.2877 & 0.1646 & -60.1842 & -33.8513 & -3.6545 & 78.4099 & 224.83 & h \\\\\n",
       "\t2 & 21.3846 & 10.917 & 2.6161 & 0.5857 & 0.3934 & 15.2618 & 11.5245 & 2.8766 & 2.4229 & 106.826 & h \\\\\n",
       "\t3 & 28.9452 & 6.702 & 2.2672 & 0.5351 & 0.2784 & 37.0816 & 13.1853 & -2.9632 & 86.7975 & 247.456 & h \\\\\n",
       "\t4 & 75.4455 & 47.5305 & 3.4483 & 0.1417 & 0.0549 & -9.3561 & 41.0562 & -9.4662 & 30.2987 & 256.517 & h \\\\\n",
       "\t5 & 120.513 & 76.9018 & 3.9939 & 0.0944 & 0.0683 & 5.8043 & -93.5224 & -63.8389 & 84.6874 & 408.317 & h \\\\\n",
       "\t6 & 187.181 & 53.0014 & 3.2093 & 0.2876 & 0.1539 & -167.313 & -168.456 & 31.4755 & 52.731 & 272.317 & h \\\\\n",
       "\\end{tabular}\n"
      ],
      "text/plain": [
       "6×11 DataFrame. Omitted printing of 5 columns\n",
       "│ Row │ fLength  │ fWidth   │ fSize    │ fConc    │ fConc1   │ fAsym    │\n",
       "│     │ \u001b[90mFloat64⍰\u001b[39m │ \u001b[90mFloat64⍰\u001b[39m │ \u001b[90mFloat64⍰\u001b[39m │ \u001b[90mFloat64⍰\u001b[39m │ \u001b[90mFloat64⍰\u001b[39m │ \u001b[90mFloat64⍰\u001b[39m │\n",
       "├─────┼──────────┼──────────┼──────────┼──────────┼──────────┼──────────┤\n",
       "│ 1   │ 43.298   │ 17.3545  │ 2.8307   │ 0.2877   │ 0.1646   │ -60.1842 │\n",
       "│ 2   │ 21.3846  │ 10.917   │ 2.6161   │ 0.5857   │ 0.3934   │ 15.2618  │\n",
       "│ 3   │ 28.9452  │ 6.702    │ 2.2672   │ 0.5351   │ 0.2784   │ 37.0816  │\n",
       "│ 4   │ 75.4455  │ 47.5305  │ 3.4483   │ 0.1417   │ 0.0549   │ -9.3561  │\n",
       "│ 5   │ 120.513  │ 76.9018  │ 3.9939   │ 0.0944   │ 0.0683   │ 5.8043   │\n",
       "│ 6   │ 187.181  │ 53.0014  │ 3.2093   │ 0.2876   │ 0.1539   │ -167.313 │"
      ]
     },
     "execution_count": 25,
     "metadata": {},
     "output_type": "execute_result"
    }
   ],
   "source": [
    "last(data, 6)"
   ]
  },
  {
   "cell_type": "code",
   "execution_count": 43,
   "metadata": {},
   "outputs": [
    {
     "data": {
      "text/plain": [
       "19020"
      ]
     },
     "execution_count": 43,
     "metadata": {},
     "output_type": "execute_result"
    }
   ],
   "source": [
    "nrow(data)"
   ]
  },
  {
   "cell_type": "code",
   "execution_count": 45,
   "metadata": {},
   "outputs": [
    {
     "data": {
      "text/plain": [
       "11"
      ]
     },
     "execution_count": 45,
     "metadata": {},
     "output_type": "execute_result"
    }
   ],
   "source": [
    "ncol(data)"
   ]
  },
  {
   "cell_type": "markdown",
   "metadata": {},
   "source": [
    "### Text files"
   ]
  },
  {
   "cell_type": "code",
   "execution_count": 46,
   "metadata": {},
   "outputs": [],
   "source": [
    "# f = open(filename, \"r\")\n",
    "\n",
    "# lines = readlines(f)\n",
    "\n",
    "# close(f)"
   ]
  },
  {
   "cell_type": "code",
   "execution_count": 47,
   "metadata": {},
   "outputs": [],
   "source": [
    "# f = open(filename, “r”)\n",
    "\n",
    "# for line in eachline(f)\n",
    "#   [some code]\n",
    "# end\n",
    "\n",
    "# close(f)"
   ]
  },
  {
   "cell_type": "code",
   "execution_count": null,
   "metadata": {},
   "outputs": [],
   "source": []
  }
 ],
 "metadata": {
  "kernelspec": {
   "display_name": "Julia 1.1.0",
   "language": "julia",
   "name": "julia-1.1"
  },
  "language_info": {
   "file_extension": ".jl",
   "mimetype": "application/julia",
   "name": "julia",
   "version": "1.1.0"
  }
 },
 "nbformat": 4,
 "nbformat_minor": 2
}
