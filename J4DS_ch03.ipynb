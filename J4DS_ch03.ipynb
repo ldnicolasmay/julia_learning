{
 "cells": [
  {
   "cell_type": "markdown",
   "metadata": {},
   "source": [
    "# Julia for Data Science - Chapter 03"
   ]
  },
  {
   "cell_type": "markdown",
   "metadata": {},
   "source": [
    "---\n",
    "## Data Types"
   ]
  },
  {
   "cell_type": "code",
   "execution_count": 1,
   "metadata": {},
   "outputs": [
    {
     "data": {
      "text/plain": [
       "123"
      ]
     },
     "execution_count": 1,
     "metadata": {},
     "output_type": "execute_result"
    }
   ],
   "source": [
    "x = 123 # julia assumes simplest possible type... here, Integer"
   ]
  },
  {
   "cell_type": "code",
   "execution_count": 2,
   "metadata": {},
   "outputs": [
    {
     "data": {
      "text/plain": [
       "\"hello world!\""
      ]
     },
     "execution_count": 2,
     "metadata": {},
     "output_type": "execute_result"
    }
   ],
   "source": [
    "y = \"hello world!\" # julia assumes type String"
   ]
  },
  {
   "cell_type": "code",
   "execution_count": 3,
   "metadata": {},
   "outputs": [
    {
     "data": {
      "text/plain": [
       "Int64"
      ]
     },
     "execution_count": 3,
     "metadata": {},
     "output_type": "execute_result"
    }
   ],
   "source": [
    "typeof(x) # 64 bit integer b/c this is a 64-bit machine"
   ]
  },
  {
   "cell_type": "code",
   "execution_count": 4,
   "metadata": {},
   "outputs": [
    {
     "data": {
      "text/plain": [
       "String"
      ]
     },
     "execution_count": 4,
     "metadata": {},
     "output_type": "execute_result"
    }
   ],
   "source": [
    "typeof(y)"
   ]
  },
  {
   "cell_type": "code",
   "execution_count": 7,
   "metadata": {},
   "outputs": [
    {
     "data": {
      "text/plain": [
       "123"
      ]
     },
     "execution_count": 7,
     "metadata": {},
     "output_type": "execute_result"
    }
   ],
   "source": [
    "# type casting\n",
    "z = Int32(x)"
   ]
  },
  {
   "cell_type": "code",
   "execution_count": 8,
   "metadata": {},
   "outputs": [
    {
     "data": {
      "text/plain": [
       "Int32"
      ]
     },
     "execution_count": 8,
     "metadata": {},
     "output_type": "execute_result"
    }
   ],
   "source": [
    "typeof(z)"
   ]
  },
  {
   "cell_type": "code",
   "execution_count": 9,
   "metadata": {},
   "outputs": [
    {
     "ename": "MethodError",
     "evalue": "MethodError: no method matching Int32(::String)\nClosest candidates are:\n  Int32(!Matched::Union{Bool, Int32, Int64, UInt32, UInt64, UInt8, Int128, Int16, Int8, UInt128, UInt16}) at boot.jl:732\n  Int32(!Matched::Float32) at float.jl:700\n  Int32(!Matched::Float64) at float.jl:679\n  ...",
     "output_type": "error",
     "traceback": [
      "MethodError: no method matching Int32(::String)\nClosest candidates are:\n  Int32(!Matched::Union{Bool, Int32, Int64, UInt32, UInt64, UInt8, Int128, Int16, Int8, UInt128, UInt16}) at boot.jl:732\n  Int32(!Matched::Float32) at float.jl:700\n  Int32(!Matched::Float64) at float.jl:679\n  ...",
      "",
      "Stacktrace:",
      " [1] top-level scope at In[9]:1"
     ]
    }
   ],
   "source": [
    "w = Int32(\"whatever\") # can't cast String to Integer"
   ]
  },
  {
   "cell_type": "markdown",
   "metadata": {},
   "source": [
    "| Data Type | Sample Values |\n",
    "|-----------|---------------|\n",
    "| Int8      | 98, -123 |\n",
    "| Int32     | 2134112, -2199996 |\n",
    "| Int64     | 123123123123121, -1234123451234 |\n",
    "| Float32   | 12312312.3223, -12312312.3223 |\n",
    "| Float64   | 12332523452345.345233343, -123333312312.3223232 |\n",
    "| Bool      | true, false (notice that the contents of this type of variable are always lowercase in Julia) |\n",
    "| Char      | 'a', '?' (notice single quotes) |\n",
    "| String    | \"some word or sentence\", \" \" (notice double quotes) |\n",
    "| BigInt    | 3454893223743457239848953894985240398349234435234532 |\n",
    "| BigFloat  | 3454893223743457239848953894985240398349234435234532.3432 |\n",
    "| Array     | [1, 2322433423, 0.12312312, false, ‘c’, “whatever”] |"
   ]
  },
  {
   "cell_type": "markdown",
   "metadata": {},
   "source": [
    "`BigInt` and `BigFloat` are special because (1) they theoretically have no limit to how big they can be and (2) they can't be defined with double colon notation `::` ( e.g. `x::Int64`). Instead use a constructor: `x = BigInt()`."
   ]
  },
  {
   "cell_type": "markdown",
   "metadata": {},
   "source": [
    "---\n",
    "## Arrays"
   ]
  },
  {
   "cell_type": "markdown",
   "metadata": {},
   "source": [
    "### Array basics"
   ]
  },
  {
   "cell_type": "markdown",
   "metadata": {},
   "source": [
    "Arrays in Julia are like lists in Python. They're mutable."
   ]
  },
  {
   "cell_type": "code",
   "execution_count": 11,
   "metadata": {},
   "outputs": [],
   "source": [
    "p = [1, 2322433423, 0.12312312, false, 'c', \"whatever\"];"
   ]
  },
  {
   "cell_type": "code",
   "execution_count": 13,
   "metadata": {},
   "outputs": [
    {
     "data": {
      "text/plain": [
       "1"
      ]
     },
     "execution_count": 13,
     "metadata": {},
     "output_type": "execute_result"
    }
   ],
   "source": [
    "p[1]"
   ]
  },
  {
   "cell_type": "code",
   "execution_count": 14,
   "metadata": {},
   "outputs": [
    {
     "data": {
      "text/plain": [
       "2322433423"
      ]
     },
     "execution_count": 14,
     "metadata": {},
     "output_type": "execute_result"
    }
   ],
   "source": [
    "p[2]"
   ]
  },
  {
   "cell_type": "code",
   "execution_count": 16,
   "metadata": {},
   "outputs": [
    {
     "data": {
      "text/plain": [
       "0.12312312"
      ]
     },
     "execution_count": 16,
     "metadata": {},
     "output_type": "execute_result"
    }
   ],
   "source": [
    "p[3]"
   ]
  },
  {
   "cell_type": "markdown",
   "metadata": {},
   "source": [
    "Notice that indexing in Julia is 1-based like R, not 0-based like Python."
   ]
  },
  {
   "cell_type": "code",
   "execution_count": 20,
   "metadata": {},
   "outputs": [
    {
     "data": {
      "text/plain": [
       "\"whatever\""
      ]
     },
     "execution_count": 20,
     "metadata": {},
     "output_type": "execute_result"
    }
   ],
   "source": [
    "p[end] # keyword 'end' access last element in an array"
   ]
  },
  {
   "cell_type": "code",
   "execution_count": 25,
   "metadata": {},
   "outputs": [
    {
     "data": {
      "text/plain": [
       "'c': ASCII/Unicode U+0063 (category Ll: Letter, lowercase)"
      ]
     },
     "execution_count": 25,
     "metadata": {},
     "output_type": "execute_result"
    }
   ],
   "source": [
    "p[end-1] # you can operate on 'end' as an integer index"
   ]
  },
  {
   "cell_type": "code",
   "execution_count": 26,
   "metadata": {},
   "outputs": [
    {
     "data": {
      "text/plain": [
       "false"
      ]
     },
     "execution_count": 26,
     "metadata": {},
     "output_type": "execute_result"
    }
   ],
   "source": [
    "p[end-2]"
   ]
  },
  {
   "cell_type": "markdown",
   "metadata": {},
   "source": [
    "You can initialize arrays... and arrays can be multidimensional."
   ]
  },
  {
   "cell_type": "code",
   "execution_count": 30,
   "metadata": {},
   "outputs": [
    {
     "data": {
      "text/plain": [
       "3×4 Array{Int64,2}:\n",
       " 4556378120  4522542000  4522542160  4522542288\n",
       " 4522541936  4522542064  4522542224  4522542320\n",
       " 4522541968  4522542128  4522542256  4522542352"
      ]
     },
     "execution_count": 30,
     "metadata": {},
     "output_type": "execute_result"
    }
   ],
   "source": [
    "Z = Array{Int64}(undef, 3, 4)"
   ]
  },
  {
   "cell_type": "code",
   "execution_count": 31,
   "metadata": {},
   "outputs": [
    {
     "data": {
      "text/plain": [
       "3×1 Array{Any,2}:\n",
       " #undef\n",
       " #undef\n",
       " #undef"
      ]
     },
     "execution_count": 31,
     "metadata": {},
     "output_type": "execute_result"
    }
   ],
   "source": [
    "Z = Array{Any}(undef, 3, 1)"
   ]
  },
  {
   "cell_type": "markdown",
   "metadata": {},
   "source": [
    "### Accessing multiple elements in an array"
   ]
  },
  {
   "cell_type": "code",
   "execution_count": 32,
   "metadata": {},
   "outputs": [
    {
     "data": {
      "text/plain": [
       "3-element Array{Any,1}:\n",
       "          1         \n",
       " 2322433423         \n",
       "          0.12312312"
      ]
     },
     "execution_count": 32,
     "metadata": {},
     "output_type": "execute_result"
    }
   ],
   "source": [
    "p[1:3]"
   ]
  },
  {
   "cell_type": "code",
   "execution_count": 33,
   "metadata": {},
   "outputs": [
    {
     "data": {
      "text/plain": [
       "3-element Array{Any,1}:\n",
       " false          \n",
       "      'c'       \n",
       "      \"whatever\""
      ]
     },
     "execution_count": 33,
     "metadata": {},
     "output_type": "execute_result"
    }
   ],
   "source": [
    "p[end-2:end]"
   ]
  },
  {
   "cell_type": "code",
   "execution_count": 34,
   "metadata": {},
   "outputs": [
    {
     "data": {
      "text/plain": [
       "2-element Array{Any,1}:\n",
       "     1\n",
       " false"
      ]
     },
     "execution_count": 34,
     "metadata": {},
     "output_type": "execute_result"
    }
   ],
   "source": [
    "p[[1,4]] # gets the first and fourth element of the array p"
   ]
  },
  {
   "cell_type": "code",
   "execution_count": 35,
   "metadata": {},
   "outputs": [
    {
     "data": {
      "text/plain": [
       "2-element Array{Any,1}:\n",
       "     1\n",
       " false"
      ]
     },
     "execution_count": 35,
     "metadata": {},
     "output_type": "execute_result"
    }
   ],
   "source": [
    "# this is a more realistic example\n",
    "ind = [1,4]\n",
    "p[ind]"
   ]
  },
  {
   "cell_type": "markdown",
   "metadata": {},
   "source": [
    "### Multidimensional arrays"
   ]
  },
  {
   "cell_type": "code",
   "execution_count": 36,
   "metadata": {},
   "outputs": [
    {
     "data": {
      "text/plain": [
       "3×4 Array{Int64,2}:\n",
       " 1  4  7  10\n",
       " 2  5  8  11\n",
       " 3  6  9  12"
      ]
     },
     "execution_count": 36,
     "metadata": {},
     "output_type": "execute_result"
    }
   ],
   "source": [
    "A = Array{Int64}(undef, 3, 4);\n",
    "A[:] = 1:12;\n",
    "A"
   ]
  },
  {
   "cell_type": "code",
   "execution_count": 42,
   "metadata": {},
   "outputs": [],
   "source": [
    "# B = Array{Int64}(undef, 1, 2, 3)\n",
    "# B[:] = 1:6;\n",
    "# B"
   ]
  },
  {
   "cell_type": "code",
   "execution_count": 43,
   "metadata": {},
   "outputs": [],
   "source": [
    "# B[:]"
   ]
  },
  {
   "cell_type": "code",
   "execution_count": 44,
   "metadata": {},
   "outputs": [
    {
     "data": {
      "text/plain": [
       "8"
      ]
     },
     "execution_count": 44,
     "metadata": {},
     "output_type": "execute_result"
    }
   ],
   "source": [
    "A[2, 3] # returns element in 2nd row, 3rd column (8)"
   ]
  },
  {
   "cell_type": "code",
   "execution_count": 47,
   "metadata": {},
   "outputs": [
    {
     "data": {
      "text/plain": [
       "4-element Array{Int64,1}:\n",
       "  3\n",
       "  6\n",
       "  9\n",
       " 12"
      ]
     },
     "execution_count": 47,
     "metadata": {},
     "output_type": "execute_result"
    }
   ],
   "source": [
    "A[3,:] # returns the entire 3rd row as a 4-element Array (syntax sugar)"
   ]
  },
  {
   "cell_type": "code",
   "execution_count": 48,
   "metadata": {},
   "outputs": [
    {
     "data": {
      "text/plain": [
       "4-element Array{Int64,1}:\n",
       "  3\n",
       "  6\n",
       "  9\n",
       " 12"
      ]
     },
     "execution_count": 48,
     "metadata": {},
     "output_type": "execute_result"
    }
   ],
   "source": [
    "A[3,1:end] # does the same as above... more verbose"
   ]
  },
  {
   "cell_type": "code",
   "execution_count": 49,
   "metadata": {},
   "outputs": [
    {
     "data": {
      "text/plain": [
       "3×4 Array{Int64,2}:\n",
       " 1  4  7  10\n",
       " 2  5  8  11\n",
       " 3  6  9  12"
      ]
     },
     "execution_count": 49,
     "metadata": {},
     "output_type": "execute_result"
    }
   ],
   "source": [
    "A[:,:] # accesses the entire matrix"
   ]
  },
  {
   "cell_type": "code",
   "execution_count": 50,
   "metadata": {},
   "outputs": [
    {
     "data": {
      "text/plain": [
       "3×4 Array{Int64,2}:\n",
       " 1  4  7  10\n",
       " 2  5  8  11\n",
       " 3  6  9  12"
      ]
     },
     "execution_count": 50,
     "metadata": {},
     "output_type": "execute_result"
    }
   ],
   "source": [
    "A[1:end,1:end] # same as above"
   ]
  },
  {
   "cell_type": "code",
   "execution_count": 56,
   "metadata": {},
   "outputs": [
    {
     "data": {
      "text/plain": [
       "12-element Array{Int64,1}:\n",
       "  1\n",
       "  2\n",
       "  3\n",
       "  4\n",
       "  5\n",
       "  6\n",
       "  7\n",
       "  8\n",
       "  9\n",
       " 10\n",
       " 11\n",
       " 12"
      ]
     },
     "execution_count": 56,
     "metadata": {},
     "output_type": "execute_result"
    }
   ],
   "source": [
    "A[:] # returns the 2-D Array as a 1-D Array"
   ]
  },
  {
   "cell_type": "markdown",
   "metadata": {},
   "source": [
    "---\n",
    "## Dictionaries"
   ]
  },
  {
   "cell_type": "markdown",
   "metadata": {},
   "source": [
    "Julia dictionaries are like Python dictionaries (hash tables). The syntax for creating them is slightly different... Julia is more like Ruby."
   ]
  },
  {
   "cell_type": "code",
   "execution_count": 57,
   "metadata": {},
   "outputs": [
    {
     "data": {
      "text/plain": [
       "Dict{Any,Any} with 0 entries"
      ]
     },
     "execution_count": 57,
     "metadata": {},
     "output_type": "execute_result"
    }
   ],
   "source": [
    "a = Dict()"
   ]
  },
  {
   "cell_type": "code",
   "execution_count": 59,
   "metadata": {},
   "outputs": [
    {
     "data": {
      "text/plain": [
       "Dict{String,Int64} with 4 entries:\n",
       "  \"two\"   => 2\n",
       "  \"four\"  => 4\n",
       "  \"one\"   => 1\n",
       "  \"three\" => 3"
      ]
     },
     "execution_count": 59,
     "metadata": {},
     "output_type": "execute_result"
    }
   ],
   "source": [
    "b = Dict(\"one\" => 1, \"two\" => 2, \"three\" => 3, \"four\" => 4)"
   ]
  },
  {
   "cell_type": "code",
   "execution_count": 60,
   "metadata": {},
   "outputs": [
    {
     "data": {
      "text/plain": [
       "3"
      ]
     },
     "execution_count": 60,
     "metadata": {},
     "output_type": "execute_result"
    }
   ],
   "source": [
    "b[\"three\"]"
   ]
  },
  {
   "cell_type": "code",
   "execution_count": 61,
   "metadata": {},
   "outputs": [
    {
     "ename": "KeyError",
     "evalue": "KeyError: key \"five\" not found",
     "output_type": "error",
     "traceback": [
      "KeyError: key \"five\" not found",
      "",
      "Stacktrace:",
      " [1] getindex(::Dict{String,Int64}, ::String) at ./dict.jl:478",
      " [2] top-level scope at In[61]:1"
     ]
    }
   ],
   "source": [
    "b[\"five\"]"
   ]
  },
  {
   "cell_type": "markdown",
   "metadata": {},
   "source": [
    "---\n",
    "## Basic Commands and Functions"
   ]
  },
  {
   "cell_type": "markdown",
   "metadata": {},
   "source": [
    "### `print()` and `println()`"
   ]
  },
  {
   "cell_type": "code",
   "execution_count": 64,
   "metadata": {},
   "outputs": [
    {
     "name": "stdout",
     "output_type": "stream",
     "text": [
      "Any[1, 2322433423, 0.123123, false, 'c', \"whatever\"]Any[1, 2322433423, 0.123123, false, 'c', \"whatever\"]"
     ]
    }
   ],
   "source": [
    "print(p)\n",
    "print(p)"
   ]
  },
  {
   "cell_type": "code",
   "execution_count": 65,
   "metadata": {},
   "outputs": [
    {
     "name": "stdout",
     "output_type": "stream",
     "text": [
      "Any[1, 2322433423, 0.123123, false, 'c', \"whatever\"]\n",
      "Any[1, 2322433423, 0.123123, false, 'c', \"whatever\"]\n"
     ]
    }
   ],
   "source": [
    "println(p)\n",
    "println(p)"
   ]
  },
  {
   "cell_type": "code",
   "execution_count": 66,
   "metadata": {},
   "outputs": [
    {
     "name": "stdout",
     "output_type": "stream",
     "text": [
      "cheesed123true"
     ]
    }
   ],
   "source": [
    "print(\"cheese\", 'd', 123, true)"
   ]
  },
  {
   "cell_type": "code",
   "execution_count": 68,
   "metadata": {},
   "outputs": [
    {
     "ename": "ErrorException",
     "evalue": "function println does not accept keyword arguments",
     "output_type": "error",
     "traceback": [
      "function println does not accept keyword arguments",
      "",
      "Stacktrace:",
      " [1] kwfunc(::Any) at ./boot.jl:330",
      " [2] top-level scope at In[68]:1"
     ]
    }
   ],
   "source": [
    "println(\"cheese\", 'd', 123, true)"
   ]
  },
  {
   "cell_type": "code",
   "execution_count": 70,
   "metadata": {},
   "outputs": [
    {
     "name": "stdout",
     "output_type": "stream",
     "text": [
      "search: \u001b[0m\u001b[1mp\u001b[22m\u001b[0m\u001b[1mr\u001b[22m\u001b[0m\u001b[1mi\u001b[22m\u001b[0m\u001b[1mn\u001b[22m\u001b[0m\u001b[1mt\u001b[22m \u001b[0m\u001b[1mp\u001b[22m\u001b[0m\u001b[1mr\u001b[22m\u001b[0m\u001b[1mi\u001b[22m\u001b[0m\u001b[1mn\u001b[22m\u001b[0m\u001b[1mt\u001b[22mln \u001b[0m\u001b[1mp\u001b[22m\u001b[0m\u001b[1mr\u001b[22m\u001b[0m\u001b[1mi\u001b[22m\u001b[0m\u001b[1mn\u001b[22m\u001b[0m\u001b[1mt\u001b[22mstyled s\u001b[0m\u001b[1mp\u001b[22m\u001b[0m\u001b[1mr\u001b[22m\u001b[0m\u001b[1mi\u001b[22m\u001b[0m\u001b[1mn\u001b[22m\u001b[0m\u001b[1mt\u001b[22m is\u001b[0m\u001b[1mp\u001b[22m\u001b[0m\u001b[1mr\u001b[22m\u001b[0m\u001b[1mi\u001b[22m\u001b[0m\u001b[1mn\u001b[22m\u001b[0m\u001b[1mt\u001b[22m \u001b[0m\u001b[1mp\u001b[22m\u001b[0m\u001b[1mr\u001b[22mev\u001b[0m\u001b[1mi\u001b[22m\u001b[0m\u001b[1mn\u001b[22md \u001b[0m\u001b[1mp\u001b[22ma\u001b[0m\u001b[1mr\u001b[22ment\u001b[0m\u001b[1mi\u001b[22m\u001b[0m\u001b[1mn\u001b[22mdices \u001b[0m\u001b[1mp\u001b[22m\u001b[0m\u001b[1mr\u001b[22mec\u001b[0m\u001b[1mi\u001b[22msio\u001b[0m\u001b[1mn\u001b[22m\n",
      "\n"
     ]
    },
    {
     "data": {
      "text/latex": [
       "\\begin{verbatim}\n",
       "print([io::IO], xs...)\n",
       "\\end{verbatim}\n",
       "Write to \\texttt{io} (or to the default output stream \\href{@ref}{\\texttt{stdout}} if \\texttt{io} is not given) a canonical (un-decorated) text representation of values \\texttt{xs} if there is one, otherwise call \\href{@ref}{\\texttt{show}}. The representation used by \\texttt{print} includes minimal formatting and tries to avoid Julia-specific details.\n",
       "\n",
       "Printing \\texttt{nothing} is not allowed and throws an error.\n",
       "\n",
       "\\section{Examples}\n",
       "\\begin{verbatim}\n",
       "julia> print(\"Hello World!\")\n",
       "Hello World!\n",
       "julia> io = IOBuffer();\n",
       "\n",
       "julia> print(io, \"Hello\", ' ', :World!)\n",
       "\n",
       "julia> String(take!(io))\n",
       "\"Hello World!\"\n",
       "\\end{verbatim}\n"
      ],
      "text/markdown": [
       "```\n",
       "print([io::IO], xs...)\n",
       "```\n",
       "\n",
       "Write to `io` (or to the default output stream [`stdout`](@ref) if `io` is not given) a canonical (un-decorated) text representation of values `xs` if there is one, otherwise call [`show`](@ref). The representation used by `print` includes minimal formatting and tries to avoid Julia-specific details.\n",
       "\n",
       "Printing `nothing` is not allowed and throws an error.\n",
       "\n",
       "# Examples\n",
       "\n",
       "```jldoctest\n",
       "julia> print(\"Hello World!\")\n",
       "Hello World!\n",
       "julia> io = IOBuffer();\n",
       "\n",
       "julia> print(io, \"Hello\", ' ', :World!)\n",
       "\n",
       "julia> String(take!(io))\n",
       "\"Hello World!\"\n",
       "```\n"
      ],
      "text/plain": [
       "\u001b[36m  print([io::IO], xs...)\u001b[39m\n",
       "\n",
       "  Write to \u001b[36mio\u001b[39m (or to the default output stream \u001b[36mstdout\u001b[39m if \u001b[36mio\u001b[39m is not given) a\n",
       "  canonical (un-decorated) text representation of values \u001b[36mxs\u001b[39m if there is one,\n",
       "  otherwise call \u001b[36mshow\u001b[39m. The representation used by \u001b[36mprint\u001b[39m includes minimal\n",
       "  formatting and tries to avoid Julia-specific details.\n",
       "\n",
       "  Printing \u001b[36mnothing\u001b[39m is not allowed and throws an error.\n",
       "\n",
       "\u001b[1m  Examples\u001b[22m\n",
       "\u001b[1m  ≡≡≡≡≡≡≡≡≡≡\u001b[22m\n",
       "\n",
       "\u001b[36m  julia> print(\"Hello World!\")\u001b[39m\n",
       "\u001b[36m  Hello World!\u001b[39m\n",
       "\u001b[36m  julia> io = IOBuffer();\u001b[39m\n",
       "\u001b[36m  \u001b[39m\n",
       "\u001b[36m  julia> print(io, \"Hello\", ' ', :World!)\u001b[39m\n",
       "\u001b[36m  \u001b[39m\n",
       "\u001b[36m  julia> String(take!(io))\u001b[39m\n",
       "\u001b[36m  \"Hello World!\"\u001b[39m"
      ]
     },
     "execution_count": 70,
     "metadata": {},
     "output_type": "execute_result"
    }
   ],
   "source": [
    "?(print)"
   ]
  },
  {
   "cell_type": "markdown",
   "metadata": {},
   "source": [
    "### `typemax()` and `typemin()`"
   ]
  },
  {
   "cell_type": "code",
   "execution_count": 72,
   "metadata": {},
   "outputs": [
    {
     "data": {
      "text/plain": [
       "9223372036854775807"
      ]
     },
     "execution_count": 72,
     "metadata": {},
     "output_type": "execute_result"
    }
   ],
   "source": [
    "typemax(Int64)"
   ]
  },
  {
   "cell_type": "code",
   "execution_count": 73,
   "metadata": {},
   "outputs": [
    {
     "data": {
      "text/plain": [
       "-9223372036854775808"
      ]
     },
     "execution_count": 73,
     "metadata": {},
     "output_type": "execute_result"
    }
   ],
   "source": [
    "typemin(Int64)"
   ]
  },
  {
   "cell_type": "code",
   "execution_count": 74,
   "metadata": {},
   "outputs": [
    {
     "data": {
      "text/plain": [
       "127"
      ]
     },
     "execution_count": 74,
     "metadata": {},
     "output_type": "execute_result"
    }
   ],
   "source": [
    "typemax(Int8)"
   ]
  },
  {
   "cell_type": "code",
   "execution_count": 75,
   "metadata": {},
   "outputs": [
    {
     "data": {
      "text/plain": [
       "Inf"
      ]
     },
     "execution_count": 75,
     "metadata": {},
     "output_type": "execute_result"
    }
   ],
   "source": [
    "typemax(Float64)"
   ]
  },
  {
   "cell_type": "code",
   "execution_count": 76,
   "metadata": {},
   "outputs": [
    {
     "data": {
      "text/plain": [
       "-Inf"
      ]
     },
     "execution_count": 76,
     "metadata": {},
     "output_type": "execute_result"
    }
   ],
   "source": [
    "typemin(Float64)"
   ]
  },
  {
   "cell_type": "markdown",
   "metadata": {},
   "source": [
    "### `collect()`"
   ]
  },
  {
   "cell_type": "markdown",
   "metadata": {},
   "source": [
    "`collect(ElementType, X)`, where `X` is any data type that corresponds to a kind of range (usually referred to as a \"collection\"), and `ElementType` is the type of elements of `X` that you wish to obtain (this parameter is usually omitted)."
   ]
  },
  {
   "cell_type": "code",
   "execution_count": 77,
   "metadata": {},
   "outputs": [
    {
     "data": {
      "text/plain": [
       "1:5"
      ]
     },
     "execution_count": 77,
     "metadata": {},
     "output_type": "execute_result"
    }
   ],
   "source": [
    "1:5"
   ]
  },
  {
   "cell_type": "code",
   "execution_count": 78,
   "metadata": {},
   "outputs": [
    {
     "data": {
      "text/plain": [
       "5-element Array{Int8,1}:\n",
       " 1\n",
       " 2\n",
       " 3\n",
       " 4\n",
       " 5"
      ]
     },
     "execution_count": 78,
     "metadata": {},
     "output_type": "execute_result"
    }
   ],
   "source": [
    "collect(Int8, 1:5)"
   ]
  },
  {
   "cell_type": "code",
   "execution_count": 79,
   "metadata": {},
   "outputs": [
    {
     "data": {
      "text/plain": [
       "5-element Array{Int64,1}:\n",
       " 1\n",
       " 2\n",
       " 3\n",
       " 4\n",
       " 5"
      ]
     },
     "execution_count": 79,
     "metadata": {},
     "output_type": "execute_result"
    }
   ],
   "source": [
    "collect(1:5)"
   ]
  },
  {
   "cell_type": "markdown",
   "metadata": {},
   "source": [
    "### `show()`"
   ]
  },
  {
   "cell_type": "markdown",
   "metadata": {},
   "source": [
    "Prints the contents of an array without all the metadata."
   ]
  },
  {
   "cell_type": "code",
   "execution_count": 82,
   "metadata": {},
   "outputs": [
    {
     "data": {
      "text/plain": [
       "5-element Array{Int64,1}:\n",
       " 1\n",
       " 2\n",
       " 3\n",
       " 4\n",
       " 5"
      ]
     },
     "execution_count": 82,
     "metadata": {},
     "output_type": "execute_result"
    }
   ],
   "source": [
    "collect(1:5)"
   ]
  },
  {
   "cell_type": "code",
   "execution_count": 81,
   "metadata": {},
   "outputs": [
    {
     "name": "stdout",
     "output_type": "stream",
     "text": [
      "[1, 2, 3, 4, 5]"
     ]
    }
   ],
   "source": [
    "show(collect(1:5))"
   ]
  },
  {
   "cell_type": "code",
   "execution_count": 83,
   "metadata": {},
   "outputs": [
    {
     "name": "stdout",
     "output_type": "stream",
     "text": [
      "[123, 134]"
     ]
    }
   ],
   "source": [
    "show([123, 134])"
   ]
  },
  {
   "cell_type": "code",
   "execution_count": 84,
   "metadata": {},
   "outputs": [
    {
     "name": "stdout",
     "output_type": "stream",
     "text": [
      "[123 345]"
     ]
    }
   ],
   "source": [
    "show([123 345])"
   ]
  },
  {
   "cell_type": "code",
   "execution_count": 85,
   "metadata": {},
   "outputs": [
    {
     "data": {
      "text/plain": [
       "true"
      ]
     },
     "execution_count": 85,
     "metadata": {},
     "output_type": "execute_result"
    }
   ],
   "source": [
    "1 == 1"
   ]
  },
  {
   "cell_type": "code",
   "execution_count": 86,
   "metadata": {},
   "outputs": [
    {
     "data": {
      "text/plain": [
       "false"
      ]
     },
     "execution_count": 86,
     "metadata": {},
     "output_type": "execute_result"
    }
   ],
   "source": [
    "[123, 234] == [123 234]"
   ]
  },
  {
   "cell_type": "code",
   "execution_count": 87,
   "metadata": {},
   "outputs": [
    {
     "data": {
      "text/plain": [
       "Array{Int64,1}"
      ]
     },
     "execution_count": 87,
     "metadata": {},
     "output_type": "execute_result"
    }
   ],
   "source": [
    "typeof([123, 234])"
   ]
  },
  {
   "cell_type": "code",
   "execution_count": 88,
   "metadata": {},
   "outputs": [
    {
     "data": {
      "text/plain": [
       "Array{Int64,2}"
      ]
     },
     "execution_count": 88,
     "metadata": {},
     "output_type": "execute_result"
    }
   ],
   "source": [
    "typeof([123 234])"
   ]
  },
  {
   "cell_type": "code",
   "execution_count": 89,
   "metadata": {},
   "outputs": [
    {
     "data": {
      "text/plain": [
       "2-element Array{Int64,1}:\n",
       " 123\n",
       " 234"
      ]
     },
     "execution_count": 89,
     "metadata": {},
     "output_type": "execute_result"
    }
   ],
   "source": [
    "[123, 234]"
   ]
  },
  {
   "cell_type": "code",
   "execution_count": 90,
   "metadata": {},
   "outputs": [
    {
     "data": {
      "text/plain": [
       "1×2 Array{Int64,2}:\n",
       " 123  234"
      ]
     },
     "execution_count": 90,
     "metadata": {},
     "output_type": "execute_result"
    }
   ],
   "source": [
    "[123 234]"
   ]
  },
  {
   "cell_type": "code",
   "execution_count": 91,
   "metadata": {},
   "outputs": [
    {
     "data": {
      "text/plain": [
       "2×2 Array{Int64,2}:\n",
       " 1  2\n",
       " 3  4"
      ]
     },
     "execution_count": 91,
     "metadata": {},
     "output_type": "execute_result"
    }
   ],
   "source": [
    "[1 2\n",
    " 3 4]"
   ]
  },
  {
   "cell_type": "code",
   "execution_count": 92,
   "metadata": {},
   "outputs": [
    {
     "name": "stdout",
     "output_type": "stream",
     "text": [
      "[1, 2, 3, 4, 5, 6, 7, 8, 9, 10, 11, 12, 13, 14, 15, 16, 17, 18, 19, 20, 21, 22, 23, 24, 25, 26, 27, 28, 29, 30, 31, 32, 33, 34, 35, 36, 37, 38, 39, 40, 41, 42, 43, 44, 45, 46, 47, 48, 49, 50]"
     ]
    }
   ],
   "source": [
    "show(collect(1:50))"
   ]
  },
  {
   "cell_type": "markdown",
   "metadata": {},
   "source": [
    "### range()"
   ]
  },
  {
   "cell_type": "code",
   "execution_count": 111,
   "metadata": {},
   "outputs": [
    {
     "data": {
      "text/plain": [
       "0:5"
      ]
     },
     "execution_count": 111,
     "metadata": {},
     "output_type": "execute_result"
    }
   ],
   "source": [
    "range(0, stop=5) # same as 0:5"
   ]
  },
  {
   "cell_type": "code",
   "execution_count": 113,
   "metadata": {},
   "outputs": [
    {
     "data": {
      "text/plain": [
       "0.0:0.5:5.0"
      ]
     },
     "execution_count": 113,
     "metadata": {},
     "output_type": "execute_result"
    }
   ],
   "source": [
    "range(0, 5, length=11)"
   ]
  },
  {
   "cell_type": "code",
   "execution_count": 114,
   "metadata": {},
   "outputs": [
    {
     "data": {
      "text/plain": [
       "0.0:0.5:5.0"
      ]
     },
     "execution_count": 114,
     "metadata": {},
     "output_type": "execute_result"
    }
   ],
   "source": [
    "range(0, 5, step=0.5) # 0:0.5:5"
   ]
  },
  {
   "cell_type": "code",
   "execution_count": 108,
   "metadata": {},
   "outputs": [
    {
     "name": "stdout",
     "output_type": "stream",
     "text": [
      "[0.0, 0.5, 1.0, 1.5, 2.0, 2.5, 3.0, 3.5, 4.0, 4.5, 5.0]"
     ]
    }
   ],
   "source": [
    "show(collect(0:0.5:5)) # start:step:end"
   ]
  },
  {
   "cell_type": "code",
   "execution_count": 105,
   "metadata": {},
   "outputs": [
    {
     "name": "stdout",
     "output_type": "stream",
     "text": [
      "[0.0, 0.5, 1.0, 1.5, 2.0, 2.5, 3.0, 3.5, 4.0, 4.5, 5.0]"
     ]
    }
   ],
   "source": [
    "show(collect(range(0, 5, length=11)))"
   ]
  },
  {
   "cell_type": "markdown",
   "metadata": {},
   "source": [
    "---\n",
    "## Mathematical Functions"
   ]
  },
  {
   "cell_type": "markdown",
   "metadata": {},
   "source": [
    "### `round()`"
   ]
  },
  {
   "cell_type": "code",
   "execution_count": 115,
   "metadata": {},
   "outputs": [
    {
     "data": {
      "text/plain": [
       "123.0"
      ]
     },
     "execution_count": 115,
     "metadata": {},
     "output_type": "execute_result"
    }
   ],
   "source": [
    "round(123.45)"
   ]
  },
  {
   "cell_type": "code",
   "execution_count": 118,
   "metadata": {},
   "outputs": [
    {
     "name": "stdout",
     "output_type": "stream",
     "text": [
      "search: \u001b[0m\u001b[1mr\u001b[22m\u001b[0m\u001b[1mo\u001b[22m\u001b[0m\u001b[1mu\u001b[22m\u001b[0m\u001b[1mn\u001b[22m\u001b[0m\u001b[1md\u001b[22m \u001b[0m\u001b[1mr\u001b[22m\u001b[0m\u001b[1mo\u001b[22m\u001b[0m\u001b[1mu\u001b[22m\u001b[0m\u001b[1mn\u001b[22m\u001b[0m\u001b[1md\u001b[22ming \u001b[0m\u001b[1mR\u001b[22m\u001b[0m\u001b[1mo\u001b[22m\u001b[0m\u001b[1mu\u001b[22m\u001b[0m\u001b[1mn\u001b[22m\u001b[0m\u001b[1md\u001b[22mUp \u001b[0m\u001b[1mR\u001b[22m\u001b[0m\u001b[1mo\u001b[22m\u001b[0m\u001b[1mu\u001b[22m\u001b[0m\u001b[1mn\u001b[22m\u001b[0m\u001b[1md\u001b[22mDown \u001b[0m\u001b[1mR\u001b[22m\u001b[0m\u001b[1mo\u001b[22m\u001b[0m\u001b[1mu\u001b[22m\u001b[0m\u001b[1mn\u001b[22m\u001b[0m\u001b[1md\u001b[22mToZero \u001b[0m\u001b[1mR\u001b[22m\u001b[0m\u001b[1mo\u001b[22m\u001b[0m\u001b[1mu\u001b[22m\u001b[0m\u001b[1mn\u001b[22m\u001b[0m\u001b[1md\u001b[22mingMode \u001b[0m\u001b[1mR\u001b[22m\u001b[0m\u001b[1mo\u001b[22m\u001b[0m\u001b[1mu\u001b[22m\u001b[0m\u001b[1mn\u001b[22m\u001b[0m\u001b[1md\u001b[22mNearest\n",
      "\n"
     ]
    },
    {
     "data": {
      "text/latex": [
       "\\begin{verbatim}\n",
       "round(z::Complex[, RoundingModeReal, [RoundingModeImaginary]])\n",
       "round(z::Complex[, RoundingModeReal, [RoundingModeImaginary]]; digits=, base=10)\n",
       "round(z::Complex[, RoundingModeReal, [RoundingModeImaginary]]; sigdigits=, base=10)\n",
       "\\end{verbatim}\n",
       "Return the nearest integral value of the same type as the complex-valued \\texttt{z} to \\texttt{z}, breaking ties using the specified \\href{@ref}{\\texttt{RoundingMode}}s. The first \\href{@ref}{\\texttt{RoundingMode}} is used for rounding the real components while the second is used for rounding the imaginary components.\n",
       "\n",
       "\\section{Example}\n",
       "\\begin{verbatim}\n",
       "julia> round(3.14 + 4.5im)\n",
       "3.0 + 4.0im\n",
       "\\end{verbatim}\n",
       "\\rule{\\textwidth}{1pt}\n",
       "\\begin{verbatim}\n",
       "round([T,] x, [r::RoundingMode])\n",
       "round(x, [r::RoundingMode]; digits::Integer=0, base = 10)\n",
       "round(x, [r::RoundingMode]; sigdigits::Integer, base = 10)\n",
       "\\end{verbatim}\n",
       "Rounds the number \\texttt{x}.\n",
       "\n",
       "Without keyword arguments, \\texttt{x} is rounded to an integer value, returning a value of type \\texttt{T}, or of the same type of \\texttt{x} if no \\texttt{T} is provided. An \\href{@ref}{\\texttt{InexactError}} will be thrown if the value is not representable by \\texttt{T}, similar to \\href{@ref}{\\texttt{convert}}.\n",
       "\n",
       "If the \\texttt{digits} keyword argument is provided, it rounds to the specified number of digits after the decimal place (or before if negative), in base \\texttt{base}.\n",
       "\n",
       "If the \\texttt{sigdigits} keyword argument is provided, it rounds to the specified number of significant digits, in base \\texttt{base}.\n",
       "\n",
       "The \\href{@ref}{\\texttt{RoundingMode}} \\texttt{r} controls the direction of the rounding; the default is \\href{@ref}{\\texttt{RoundNearest}}, which rounds to the nearest integer, with ties (fractional values of 0.5) being rounded to the nearest even integer. Note that \\texttt{round} may give incorrect results if the global rounding mode is changed (see \\href{@ref}{\\texttt{rounding}}).\n",
       "\n",
       "\\section{Examples}\n",
       "\\begin{verbatim}\n",
       "julia> round(1.7)\n",
       "2.0\n",
       "\n",
       "julia> round(Int, 1.7)\n",
       "2\n",
       "\n",
       "julia> round(1.5)\n",
       "2.0\n",
       "\n",
       "julia> round(2.5)\n",
       "2.0\n",
       "\n",
       "julia> round(pi; digits=2)\n",
       "3.14\n",
       "\n",
       "julia> round(pi; digits=3, base=2)\n",
       "3.125\n",
       "\n",
       "julia> round(123.456; sigdigits=2)\n",
       "120.0\n",
       "\n",
       "julia> round(357.913; sigdigits=4, base=2)\n",
       "352.0\n",
       "\\end{verbatim}\n",
       "\\begin{quote}\n",
       "\\textbf{note}\n",
       "\n",
       "Note\n",
       "\n",
       "Rounding to specified digits in bases other than 2 can be inexact when operating on binary floating point numbers. For example, the \\href{@ref}{\\texttt{Float64}} value represented by \\texttt{1.15} is actually \\emph{less} than 1.15, yet will be rounded to 1.2.\n",
       "\n",
       "\\section{Examples}\n",
       "\\begin{verbatim}\n",
       "julia> x = 1.15\n",
       "1.15\n",
       "\n",
       "julia> @sprintf \"%.20f\" x\n",
       "\"1.14999999999999991118\"\n",
       "\n",
       "julia> x < 115//100\n",
       "true\n",
       "\n",
       "julia> round(x, digits=1)\n",
       "1.2\n",
       "\\end{verbatim}\n",
       "\\end{quote}\n",
       "\\section{Extensions}\n",
       "To extend \\texttt{round} to new numeric types, it is typically sufficient to define \\texttt{Base.round(x::NewType, r::RoundingMode)}.\n",
       "\n",
       "\\rule{\\textwidth}{1pt}\n",
       "\\begin{verbatim}\n",
       "round(dt::TimeType, p::Period, [r::RoundingMode]) -> TimeType\n",
       "\\end{verbatim}\n",
       "Return the \\texttt{Date} or \\texttt{DateTime} nearest to \\texttt{dt} at resolution \\texttt{p}. By default (\\texttt{RoundNearestTiesUp}), ties (e.g., rounding 9:30 to the nearest hour) will be rounded up.\n",
       "\n",
       "For convenience, \\texttt{p} may be a type instead of a value: \\texttt{round(dt, Dates.Hour)} is a shortcut for \\texttt{round(dt, Dates.Hour(1))}.\n",
       "\n",
       "\\begin{verbatim}\n",
       "julia> round(Date(1985, 8, 16), Dates.Month)\n",
       "1985-08-01\n",
       "\n",
       "julia> round(DateTime(2013, 2, 13, 0, 31, 20), Dates.Minute(15))\n",
       "2013-02-13T00:30:00\n",
       "\n",
       "julia> round(DateTime(2016, 8, 6, 12, 0, 0), Dates.Day)\n",
       "2016-08-07T00:00:00\n",
       "\\end{verbatim}\n",
       "Valid rounding modes for \\texttt{round(::TimeType, ::Period, ::RoundingMode)} are \\texttt{RoundNearestTiesUp} (default), \\texttt{RoundDown} (\\texttt{floor}), and \\texttt{RoundUp} (\\texttt{ceil}).\n",
       "\n",
       "\\rule{\\textwidth}{1pt}\n",
       "\\begin{verbatim}\n",
       "round(x::Period, precision::T, [r::RoundingMode]) where T <: Union{TimePeriod, Week, Day} -> T\n",
       "\\end{verbatim}\n",
       "Round \\texttt{x} to the nearest multiple of \\texttt{precision}. If \\texttt{x} and \\texttt{precision} are different subtypes of \\texttt{Period}, the return value will have the same type as \\texttt{precision}. By default (\\texttt{RoundNearestTiesUp}), ties (e.g., rounding 90 minutes to the nearest hour) will be rounded up.\n",
       "\n",
       "For convenience, \\texttt{precision} may be a type instead of a value: \\texttt{round(x, Dates.Hour)} is a shortcut for \\texttt{round(x, Dates.Hour(1))}.\n",
       "\n",
       "\\begin{verbatim}\n",
       "julia> round(Dates.Day(16), Dates.Week)\n",
       "2 weeks\n",
       "\n",
       "julia> round(Dates.Minute(44), Dates.Minute(15))\n",
       "45 minutes\n",
       "\n",
       "julia> round(Dates.Hour(36), Dates.Day)\n",
       "2 days\n",
       "\\end{verbatim}\n",
       "Valid rounding modes for \\texttt{round(::Period, ::T, ::RoundingMode)} are \\texttt{RoundNearestTiesUp} (default), \\texttt{RoundDown} (\\texttt{floor}), and \\texttt{RoundUp} (\\texttt{ceil}).\n",
       "\n",
       "Rounding to a \\texttt{precision} of \\texttt{Month}s or \\texttt{Year}s is not supported, as these \\texttt{Period}s are of inconsistent length.\n",
       "\n"
      ],
      "text/markdown": [
       "```\n",
       "round(z::Complex[, RoundingModeReal, [RoundingModeImaginary]])\n",
       "round(z::Complex[, RoundingModeReal, [RoundingModeImaginary]]; digits=, base=10)\n",
       "round(z::Complex[, RoundingModeReal, [RoundingModeImaginary]]; sigdigits=, base=10)\n",
       "```\n",
       "\n",
       "Return the nearest integral value of the same type as the complex-valued `z` to `z`, breaking ties using the specified [`RoundingMode`](@ref)s. The first [`RoundingMode`](@ref) is used for rounding the real components while the second is used for rounding the imaginary components.\n",
       "\n",
       "# Example\n",
       "\n",
       "```jldoctest\n",
       "julia> round(3.14 + 4.5im)\n",
       "3.0 + 4.0im\n",
       "```\n",
       "\n",
       "---\n",
       "\n",
       "```\n",
       "round([T,] x, [r::RoundingMode])\n",
       "round(x, [r::RoundingMode]; digits::Integer=0, base = 10)\n",
       "round(x, [r::RoundingMode]; sigdigits::Integer, base = 10)\n",
       "```\n",
       "\n",
       "Rounds the number `x`.\n",
       "\n",
       "Without keyword arguments, `x` is rounded to an integer value, returning a value of type `T`, or of the same type of `x` if no `T` is provided. An [`InexactError`](@ref) will be thrown if the value is not representable by `T`, similar to [`convert`](@ref).\n",
       "\n",
       "If the `digits` keyword argument is provided, it rounds to the specified number of digits after the decimal place (or before if negative), in base `base`.\n",
       "\n",
       "If the `sigdigits` keyword argument is provided, it rounds to the specified number of significant digits, in base `base`.\n",
       "\n",
       "The [`RoundingMode`](@ref) `r` controls the direction of the rounding; the default is [`RoundNearest`](@ref), which rounds to the nearest integer, with ties (fractional values of 0.5) being rounded to the nearest even integer. Note that `round` may give incorrect results if the global rounding mode is changed (see [`rounding`](@ref)).\n",
       "\n",
       "# Examples\n",
       "\n",
       "```jldoctest\n",
       "julia> round(1.7)\n",
       "2.0\n",
       "\n",
       "julia> round(Int, 1.7)\n",
       "2\n",
       "\n",
       "julia> round(1.5)\n",
       "2.0\n",
       "\n",
       "julia> round(2.5)\n",
       "2.0\n",
       "\n",
       "julia> round(pi; digits=2)\n",
       "3.14\n",
       "\n",
       "julia> round(pi; digits=3, base=2)\n",
       "3.125\n",
       "\n",
       "julia> round(123.456; sigdigits=2)\n",
       "120.0\n",
       "\n",
       "julia> round(357.913; sigdigits=4, base=2)\n",
       "352.0\n",
       "```\n",
       "\n",
       "!!! note\n",
       "    Rounding to specified digits in bases other than 2 can be inexact when operating on binary floating point numbers. For example, the [`Float64`](@ref) value represented by `1.15` is actually *less* than 1.15, yet will be rounded to 1.2.\n",
       "\n",
       "    # Examples\n",
       "\n",
       "    ```jldoctest; setup = :(using Printf)\n",
       "    julia> x = 1.15\n",
       "    1.15\n",
       "\n",
       "    julia> @sprintf \"%.20f\" x\n",
       "    \"1.14999999999999991118\"\n",
       "\n",
       "    julia> x < 115//100\n",
       "    true\n",
       "\n",
       "    julia> round(x, digits=1)\n",
       "    1.2\n",
       "    ```\n",
       "\n",
       "\n",
       "# Extensions\n",
       "\n",
       "To extend `round` to new numeric types, it is typically sufficient to define `Base.round(x::NewType, r::RoundingMode)`.\n",
       "\n",
       "---\n",
       "\n",
       "```\n",
       "round(dt::TimeType, p::Period, [r::RoundingMode]) -> TimeType\n",
       "```\n",
       "\n",
       "Return the `Date` or `DateTime` nearest to `dt` at resolution `p`. By default (`RoundNearestTiesUp`), ties (e.g., rounding 9:30 to the nearest hour) will be rounded up.\n",
       "\n",
       "For convenience, `p` may be a type instead of a value: `round(dt, Dates.Hour)` is a shortcut for `round(dt, Dates.Hour(1))`.\n",
       "\n",
       "```jldoctest\n",
       "julia> round(Date(1985, 8, 16), Dates.Month)\n",
       "1985-08-01\n",
       "\n",
       "julia> round(DateTime(2013, 2, 13, 0, 31, 20), Dates.Minute(15))\n",
       "2013-02-13T00:30:00\n",
       "\n",
       "julia> round(DateTime(2016, 8, 6, 12, 0, 0), Dates.Day)\n",
       "2016-08-07T00:00:00\n",
       "```\n",
       "\n",
       "Valid rounding modes for `round(::TimeType, ::Period, ::RoundingMode)` are `RoundNearestTiesUp` (default), `RoundDown` (`floor`), and `RoundUp` (`ceil`).\n",
       "\n",
       "---\n",
       "\n",
       "```\n",
       "round(x::Period, precision::T, [r::RoundingMode]) where T <: Union{TimePeriod, Week, Day} -> T\n",
       "```\n",
       "\n",
       "Round `x` to the nearest multiple of `precision`. If `x` and `precision` are different subtypes of `Period`, the return value will have the same type as `precision`. By default (`RoundNearestTiesUp`), ties (e.g., rounding 90 minutes to the nearest hour) will be rounded up.\n",
       "\n",
       "For convenience, `precision` may be a type instead of a value: `round(x, Dates.Hour)` is a shortcut for `round(x, Dates.Hour(1))`.\n",
       "\n",
       "```jldoctest\n",
       "julia> round(Dates.Day(16), Dates.Week)\n",
       "2 weeks\n",
       "\n",
       "julia> round(Dates.Minute(44), Dates.Minute(15))\n",
       "45 minutes\n",
       "\n",
       "julia> round(Dates.Hour(36), Dates.Day)\n",
       "2 days\n",
       "```\n",
       "\n",
       "Valid rounding modes for `round(::Period, ::T, ::RoundingMode)` are `RoundNearestTiesUp` (default), `RoundDown` (`floor`), and `RoundUp` (`ceil`).\n",
       "\n",
       "Rounding to a `precision` of `Month`s or `Year`s is not supported, as these `Period`s are of inconsistent length.\n"
      ],
      "text/plain": [
       "\u001b[36m  round(z::Complex[, RoundingModeReal, [RoundingModeImaginary]])\u001b[39m\n",
       "\u001b[36m  round(z::Complex[, RoundingModeReal, [RoundingModeImaginary]]; digits=, base=10)\u001b[39m\n",
       "\u001b[36m  round(z::Complex[, RoundingModeReal, [RoundingModeImaginary]]; sigdigits=, base=10)\u001b[39m\n",
       "\n",
       "  Return the nearest integral value of the same type as the complex-valued \u001b[36mz\u001b[39m\n",
       "  to \u001b[36mz\u001b[39m, breaking ties using the specified \u001b[36mRoundingMode\u001b[39ms. The first\n",
       "  \u001b[36mRoundingMode\u001b[39m is used for rounding the real components while the second is\n",
       "  used for rounding the imaginary components.\n",
       "\n",
       "\u001b[1m  Example\u001b[22m\n",
       "\u001b[1m  ≡≡≡≡≡≡≡≡≡\u001b[22m\n",
       "\n",
       "\u001b[36m  julia> round(3.14 + 4.5im)\u001b[39m\n",
       "\u001b[36m  3.0 + 4.0im\u001b[39m\n",
       "\n",
       "  ────────────────────────────────────────────────────────────────────────────\n",
       "\n",
       "\u001b[36m  round([T,] x, [r::RoundingMode])\u001b[39m\n",
       "\u001b[36m  round(x, [r::RoundingMode]; digits::Integer=0, base = 10)\u001b[39m\n",
       "\u001b[36m  round(x, [r::RoundingMode]; sigdigits::Integer, base = 10)\u001b[39m\n",
       "\n",
       "  Rounds the number \u001b[36mx\u001b[39m.\n",
       "\n",
       "  Without keyword arguments, \u001b[36mx\u001b[39m is rounded to an integer value, returning a\n",
       "  value of type \u001b[36mT\u001b[39m, or of the same type of \u001b[36mx\u001b[39m if no \u001b[36mT\u001b[39m is provided. An\n",
       "  \u001b[36mInexactError\u001b[39m will be thrown if the value is not representable by \u001b[36mT\u001b[39m, similar\n",
       "  to \u001b[36mconvert\u001b[39m.\n",
       "\n",
       "  If the \u001b[36mdigits\u001b[39m keyword argument is provided, it rounds to the specified\n",
       "  number of digits after the decimal place (or before if negative), in base\n",
       "  \u001b[36mbase\u001b[39m.\n",
       "\n",
       "  If the \u001b[36msigdigits\u001b[39m keyword argument is provided, it rounds to the specified\n",
       "  number of significant digits, in base \u001b[36mbase\u001b[39m.\n",
       "\n",
       "  The \u001b[36mRoundingMode\u001b[39m \u001b[36mr\u001b[39m controls the direction of the rounding; the default is\n",
       "  \u001b[36mRoundNearest\u001b[39m, which rounds to the nearest integer, with ties (fractional\n",
       "  values of 0.5) being rounded to the nearest even integer. Note that \u001b[36mround\u001b[39m\n",
       "  may give incorrect results if the global rounding mode is changed (see\n",
       "  \u001b[36mrounding\u001b[39m).\n",
       "\n",
       "\u001b[1m  Examples\u001b[22m\n",
       "\u001b[1m  ≡≡≡≡≡≡≡≡≡≡\u001b[22m\n",
       "\n",
       "\u001b[36m  julia> round(1.7)\u001b[39m\n",
       "\u001b[36m  2.0\u001b[39m\n",
       "\u001b[36m  \u001b[39m\n",
       "\u001b[36m  julia> round(Int, 1.7)\u001b[39m\n",
       "\u001b[36m  2\u001b[39m\n",
       "\u001b[36m  \u001b[39m\n",
       "\u001b[36m  julia> round(1.5)\u001b[39m\n",
       "\u001b[36m  2.0\u001b[39m\n",
       "\u001b[36m  \u001b[39m\n",
       "\u001b[36m  julia> round(2.5)\u001b[39m\n",
       "\u001b[36m  2.0\u001b[39m\n",
       "\u001b[36m  \u001b[39m\n",
       "\u001b[36m  julia> round(pi; digits=2)\u001b[39m\n",
       "\u001b[36m  3.14\u001b[39m\n",
       "\u001b[36m  \u001b[39m\n",
       "\u001b[36m  julia> round(pi; digits=3, base=2)\u001b[39m\n",
       "\u001b[36m  3.125\u001b[39m\n",
       "\u001b[36m  \u001b[39m\n",
       "\u001b[36m  julia> round(123.456; sigdigits=2)\u001b[39m\n",
       "\u001b[36m  120.0\u001b[39m\n",
       "\u001b[36m  \u001b[39m\n",
       "\u001b[36m  julia> round(357.913; sigdigits=4, base=2)\u001b[39m\n",
       "\u001b[36m  352.0\u001b[39m\n",
       "\n",
       "\u001b[36m\u001b[1m  │ \u001b[22m\u001b[39m\u001b[36m\u001b[1mNote\u001b[22m\u001b[39m\n",
       "\u001b[36m\u001b[1m  │\u001b[22m\u001b[39m\n",
       "\u001b[36m\u001b[1m  │\u001b[22m\u001b[39m  Rounding to specified digits in bases other than 2 can be inexact\n",
       "\u001b[36m\u001b[1m  │\u001b[22m\u001b[39m  when operating on binary floating point numbers. For example, the\n",
       "\u001b[36m\u001b[1m  │\u001b[22m\u001b[39m  \u001b[36mFloat64\u001b[39m value represented by \u001b[36m1.15\u001b[39m is actually \u001b[4mless\u001b[24m than 1.15, yet\n",
       "\u001b[36m\u001b[1m  │\u001b[22m\u001b[39m  will be rounded to 1.2.\n",
       "\u001b[36m\u001b[1m  │\u001b[22m\u001b[39m\n",
       "\u001b[36m\u001b[1m  │\u001b[22m\u001b[39m\u001b[1m  Examples\u001b[22m\n",
       "\u001b[36m\u001b[1m  │\u001b[22m\u001b[39m\u001b[1m  ≡≡≡≡≡≡≡≡≡≡\u001b[22m\n",
       "\u001b[36m\u001b[1m  │\u001b[22m\u001b[39m\n",
       "\u001b[36m\u001b[1m  │\u001b[22m\u001b[39m\u001b[36m  julia> x = 1.15\u001b[39m\n",
       "\u001b[36m\u001b[1m  │\u001b[22m\u001b[39m\u001b[36m  1.15\u001b[39m\n",
       "\u001b[36m\u001b[1m  │\u001b[22m\u001b[39m\u001b[36m  \u001b[39m\n",
       "\u001b[36m\u001b[1m  │\u001b[22m\u001b[39m\u001b[36m  julia> @sprintf \"%.20f\" x\u001b[39m\n",
       "\u001b[36m\u001b[1m  │\u001b[22m\u001b[39m\u001b[36m  \"1.14999999999999991118\"\u001b[39m\n",
       "\u001b[36m\u001b[1m  │\u001b[22m\u001b[39m\u001b[36m  \u001b[39m\n",
       "\u001b[36m\u001b[1m  │\u001b[22m\u001b[39m\u001b[36m  julia> x < 115//100\u001b[39m\n",
       "\u001b[36m\u001b[1m  │\u001b[22m\u001b[39m\u001b[36m  true\u001b[39m\n",
       "\u001b[36m\u001b[1m  │\u001b[22m\u001b[39m\u001b[36m  \u001b[39m\n",
       "\u001b[36m\u001b[1m  │\u001b[22m\u001b[39m\u001b[36m  julia> round(x, digits=1)\u001b[39m\n",
       "\u001b[36m\u001b[1m  │\u001b[22m\u001b[39m\u001b[36m  1.2\u001b[39m\n",
       "\n",
       "\u001b[1m  Extensions\u001b[22m\n",
       "\u001b[1m  ≡≡≡≡≡≡≡≡≡≡≡≡\u001b[22m\n",
       "\n",
       "  To extend \u001b[36mround\u001b[39m to new numeric types, it is typically sufficient to define\n",
       "  \u001b[36mBase.round(x::NewType, r::RoundingMode)\u001b[39m.\n",
       "\n",
       "  ────────────────────────────────────────────────────────────────────────────\n",
       "\n",
       "\u001b[36m  round(dt::TimeType, p::Period, [r::RoundingMode]) -> TimeType\u001b[39m\n",
       "\n",
       "  Return the \u001b[36mDate\u001b[39m or \u001b[36mDateTime\u001b[39m nearest to \u001b[36mdt\u001b[39m at resolution \u001b[36mp\u001b[39m. By default\n",
       "  (\u001b[36mRoundNearestTiesUp\u001b[39m), ties (e.g., rounding 9:30 to the nearest hour) will be\n",
       "  rounded up.\n",
       "\n",
       "  For convenience, \u001b[36mp\u001b[39m may be a type instead of a value: \u001b[36mround(dt, Dates.Hour)\u001b[39m\n",
       "  is a shortcut for \u001b[36mround(dt, Dates.Hour(1))\u001b[39m.\n",
       "\n",
       "\u001b[36m  julia> round(Date(1985, 8, 16), Dates.Month)\u001b[39m\n",
       "\u001b[36m  1985-08-01\u001b[39m\n",
       "\u001b[36m  \u001b[39m\n",
       "\u001b[36m  julia> round(DateTime(2013, 2, 13, 0, 31, 20), Dates.Minute(15))\u001b[39m\n",
       "\u001b[36m  2013-02-13T00:30:00\u001b[39m\n",
       "\u001b[36m  \u001b[39m\n",
       "\u001b[36m  julia> round(DateTime(2016, 8, 6, 12, 0, 0), Dates.Day)\u001b[39m\n",
       "\u001b[36m  2016-08-07T00:00:00\u001b[39m\n",
       "\n",
       "  Valid rounding modes for \u001b[36mround(::TimeType, ::Period, ::RoundingMode)\u001b[39m are\n",
       "  \u001b[36mRoundNearestTiesUp\u001b[39m (default), \u001b[36mRoundDown\u001b[39m (\u001b[36mfloor\u001b[39m), and \u001b[36mRoundUp\u001b[39m (\u001b[36mceil\u001b[39m).\n",
       "\n",
       "  ────────────────────────────────────────────────────────────────────────────\n",
       "\n",
       "\u001b[36m  round(x::Period, precision::T, [r::RoundingMode]) where T <: Union{TimePeriod, Week, Day} -> T\u001b[39m\n",
       "\n",
       "  Round \u001b[36mx\u001b[39m to the nearest multiple of \u001b[36mprecision\u001b[39m. If \u001b[36mx\u001b[39m and \u001b[36mprecision\u001b[39m are\n",
       "  different subtypes of \u001b[36mPeriod\u001b[39m, the return value will have the same type as\n",
       "  \u001b[36mprecision\u001b[39m. By default (\u001b[36mRoundNearestTiesUp\u001b[39m), ties (e.g., rounding 90 minutes\n",
       "  to the nearest hour) will be rounded up.\n",
       "\n",
       "  For convenience, \u001b[36mprecision\u001b[39m may be a type instead of a value: \u001b[36mround(x,\n",
       "  Dates.Hour)\u001b[39m is a shortcut for \u001b[36mround(x, Dates.Hour(1))\u001b[39m.\n",
       "\n",
       "\u001b[36m  julia> round(Dates.Day(16), Dates.Week)\u001b[39m\n",
       "\u001b[36m  2 weeks\u001b[39m\n",
       "\u001b[36m  \u001b[39m\n",
       "\u001b[36m  julia> round(Dates.Minute(44), Dates.Minute(15))\u001b[39m\n",
       "\u001b[36m  45 minutes\u001b[39m\n",
       "\u001b[36m  \u001b[39m\n",
       "\u001b[36m  julia> round(Dates.Hour(36), Dates.Day)\u001b[39m\n",
       "\u001b[36m  2 days\u001b[39m\n",
       "\n",
       "  Valid rounding modes for \u001b[36mround(::Period, ::T, ::RoundingMode)\u001b[39m are\n",
       "  \u001b[36mRoundNearestTiesUp\u001b[39m (default), \u001b[36mRoundDown\u001b[39m (\u001b[36mfloor\u001b[39m), and \u001b[36mRoundUp\u001b[39m (\u001b[36mceil\u001b[39m).\n",
       "\n",
       "  Rounding to a \u001b[36mprecision\u001b[39m of \u001b[36mMonth\u001b[39ms or \u001b[36mYear\u001b[39ms is not supported, as these\n",
       "  \u001b[36mPeriod\u001b[39ms are of inconsistent length."
      ]
     },
     "execution_count": 118,
     "metadata": {},
     "output_type": "execute_result"
    }
   ],
   "source": [
    "?round"
   ]
  },
  {
   "cell_type": "code",
   "execution_count": 119,
   "metadata": {},
   "outputs": [
    {
     "data": {
      "text/plain": [
       "123"
      ]
     },
     "execution_count": 119,
     "metadata": {},
     "output_type": "execute_result"
    }
   ],
   "source": [
    "round(Int64, 123.45)"
   ]
  },
  {
   "cell_type": "code",
   "execution_count": 121,
   "metadata": {},
   "outputs": [
    {
     "data": {
      "text/plain": [
       "123.46"
      ]
     },
     "execution_count": 121,
     "metadata": {},
     "output_type": "execute_result"
    }
   ],
   "source": [
    "round(123.45678; digits=2)"
   ]
  },
  {
   "cell_type": "code",
   "execution_count": 123,
   "metadata": {},
   "outputs": [
    {
     "data": {
      "text/plain": [
       "1230.0"
      ]
     },
     "execution_count": 123,
     "metadata": {},
     "output_type": "execute_result"
    }
   ],
   "source": [
    "round(1234.567; sigdigits=3)"
   ]
  },
  {
   "cell_type": "code",
   "execution_count": null,
   "metadata": {},
   "outputs": [],
   "source": []
  }
 ],
 "metadata": {
  "kernelspec": {
   "display_name": "Julia 1.1.0",
   "language": "julia",
   "name": "julia-1.1"
  },
  "language_info": {
   "file_extension": ".jl",
   "mimetype": "application/julia",
   "name": "julia",
   "version": "1.1.0"
  }
 },
 "nbformat": 4,
 "nbformat_minor": 2
}
